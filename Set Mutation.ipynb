{
 "cells": [
  {
   "cell_type": "code",
   "execution_count": null,
   "metadata": {},
   "outputs": [],
   "source": [
    "a = int(input())\n",
    "x = set(map(int,input().split()))\n",
    "\n",
    "for i in range(int(input())):\n",
    "    g,h = input().split()\n",
    "    if g=='intersection_update':\n",
    "        x.intersection_update(set(map(int,input().split())))\n",
    "    elif g=='update':\n",
    "        x.update(set(map(int,input().split())))\n",
    "    elif g == 'symmetric_difference_update' :\n",
    "        x.symmetric_difference_update(set(map(int,input().split())))    \n",
    "    elif g =='difference_update':\n",
    "        x.difference_update(set(map(int,input().split())))\n",
    "\n",
    "print(sum(x))"
   ]
  }
 ],
 "metadata": {
  "kernelspec": {
   "display_name": "Python 3",
   "language": "python",
   "name": "python3"
  },
  "language_info": {
   "codemirror_mode": {
    "name": "ipython",
    "version": 3
   },
   "file_extension": ".py",
   "mimetype": "text/x-python",
   "name": "python",
   "nbconvert_exporter": "python",
   "pygments_lexer": "ipython3",
   "version": "3.7.6"
  }
 },
 "nbformat": 4,
 "nbformat_minor": 4
}

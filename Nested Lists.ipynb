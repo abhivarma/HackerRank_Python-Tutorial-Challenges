{
 "cells": [
  {
   "cell_type": "code",
   "execution_count": 2,
   "metadata": {},
   "outputs": [
    {
     "name": "stdout",
     "output_type": "stream",
     "text": [
      "3\n",
      "ber\n",
      "30\n",
      "aer\n",
      "30\n",
      "aaa\n",
      "20\n",
      "aer\n",
      "ber\n"
     ]
    }
   ],
   "source": [
    "if __name__ == '__main__':\n",
    "    result = list()\n",
    "    for _ in range(int(input())):\n",
    "        name = input()\n",
    "        score = float(input())\n",
    "        result.append([name,score])\n",
    "\n",
    "    #Taking the value of second_least using sets\n",
    "    \n",
    "    second_least = sorted(list(set(score for name,score in result)))[1]\n",
    "    \n",
    "    names = list() #this list is used to store sorted names of second_least\n",
    "    for i in range(len(result)):\n",
    "        if result[i][1]==second_least:\n",
    "            names.append(result[i][0])\n",
    "\n",
    "    sorted_names = sorted(names) #sorting the names and printing\n",
    "    for i in range(len(sorted_names)):\n",
    "        print(sorted_names[i])"
   ]
  },
  {
   "cell_type": "code",
   "execution_count": null,
   "metadata": {},
   "outputs": [],
   "source": []
  }
 ],
 "metadata": {
  "kernelspec": {
   "display_name": "Python 3",
   "language": "python",
   "name": "python3"
  },
  "language_info": {
   "codemirror_mode": {
    "name": "ipython",
    "version": 3
   },
   "file_extension": ".py",
   "mimetype": "text/x-python",
   "name": "python",
   "nbconvert_exporter": "python",
   "pygments_lexer": "ipython3",
   "version": "3.7.6"
  }
 },
 "nbformat": 4,
 "nbformat_minor": 4
}

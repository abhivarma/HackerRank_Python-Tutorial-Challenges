{
 "cells": [
  {
   "cell_type": "code",
   "execution_count": null,
   "metadata": {},
   "outputs": [],
   "source": [
    "if __name__ == '__main__':\n",
    "    N = int(input())\n",
    "    l = []\n",
    "    for i in range(0,N):\n",
    "        x = input().split()\n",
    "        if x[0] == 'insert':\n",
    "            l.insert(int(x[1]),int(x[2]))\n",
    "        elif x[0] == 'print':\n",
    "            print(l)\n",
    "        elif x[0] == 'remove':\n",
    "            l.remove(int(x[1]))\n",
    "        elif x[0]=='append':\n",
    "            l.append(int(x[1]))\n",
    "        elif x[0]=='sort':\n",
    "            l.sort()\n",
    "        elif x[0]=='pop':\n",
    "            l.pop()\n",
    "        elif x[0] == 'reverse':\n",
    "            l.reverse()"
   ]
  }
 ],
 "metadata": {
  "kernelspec": {
   "display_name": "Python 3",
   "language": "python",
   "name": "python3"
  },
  "language_info": {
   "codemirror_mode": {
    "name": "ipython",
    "version": 3
   },
   "file_extension": ".py",
   "mimetype": "text/x-python",
   "name": "python",
   "nbconvert_exporter": "python",
   "pygments_lexer": "ipython3",
   "version": "3.7.6"
  }
 },
 "nbformat": 4,
 "nbformat_minor": 4
}

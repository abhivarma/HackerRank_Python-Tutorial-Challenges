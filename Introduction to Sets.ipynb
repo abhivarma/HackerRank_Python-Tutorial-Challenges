{
 "cells": [
  {
   "cell_type": "code",
   "execution_count": null,
   "metadata": {},
   "outputs": [],
   "source": [
    "m = int(input())\n",
    "x = set(map(int,input().split()))\n",
    "n = int(input())\n",
    "y = set(map(int,input().split()))\n",
    "a = list(x.symmetric_difference(y))\n",
    "a.sort()\n",
    "for i in range(len(a)):\n",
    "    print(a[i])"
   ]
  }
 ],
 "metadata": {
  "kernelspec": {
   "display_name": "Python 3",
   "language": "python",
   "name": "python3"
  },
  "language_info": {
   "codemirror_mode": {
    "name": "ipython",
    "version": 3
   },
   "file_extension": ".py",
   "mimetype": "text/x-python",
   "name": "python",
   "nbconvert_exporter": "python",
   "pygments_lexer": "ipython3",
   "version": "3.7.6"
  }
 },
 "nbformat": 4,
 "nbformat_minor": 4
}
